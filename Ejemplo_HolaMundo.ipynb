{
  "nbformat": 4,
  "nbformat_minor": 0,
  "metadata": {
    "colab": {
      "name": "Ejemplo_HolaMundo.ipynb",
      "provenance": [],
      "collapsed_sections": [],
      "toc_visible": true,
      "authorship_tag": "ABX9TyMxs7g7+yRc7ElYE6Ah6FDL",
      "include_colab_link": true
    },
    "kernelspec": {
      "name": "python3",
      "display_name": "Python 3"
    },
    "accelerator": "GPU"
  },
  "cells": [
    {
      "cell_type": "markdown",
      "metadata": {
        "id": "view-in-github",
        "colab_type": "text"
      },
      "source": [
        "<a href=\"https://colab.research.google.com/github/davequinta/SalesApp/blob/master/Ejemplo_HolaMundo.ipynb\" target=\"_parent\"><img src=\"https://colab.research.google.com/assets/colab-badge.svg\" alt=\"Open In Colab\"/></a>"
      ]
    },
    {
      "cell_type": "markdown",
      "metadata": {
        "id": "WlnpzCDIX9Ew",
        "colab_type": "text"
      },
      "source": [
        "### **Primero ejemplo de Taller ACA 22/03/2020**"
      ]
    },
    {
      "cell_type": "markdown",
      "metadata": {
        "id": "k52o7_hGnWWi",
        "colab_type": "text"
      },
      "source": [
        "Lista\n",
        "\n",
        "1.   Elemento de lista\n",
        "2.   Elemento de lista\n",
        "\n",
        "\n",
        "1.   Elemento de lista\n",
        "2.   Elemento de lista\n",
        "\n",
        "\n",
        "\n"
      ]
    },
    {
      "cell_type": "markdown",
      "metadata": {
        "id": "NE2A8GArkZWR",
        "colab_type": "text"
      },
      "source": [
        "\n",
        "Ecuaciones\n",
        ":\n",
        "\n",
        ">$y=x^2$\n",
        "\n",
        ">$e^{i\\pi} + 1 = 0$\n",
        "\n",
        ">$e^x=\\sum_{i=0}^\\infty \\frac{1}{i!}x^i$\n",
        "\n",
        ">$\\frac{n!}{k!(n-k)!} = {n \\choose k}$\n",
        "\n",
        ">$A_{m,n} =\n",
        " \\begin{pmatrix}\n",
        "  a_{1,1} & a_{1,2} & \\cdots & a_{1,n} \\\\\n",
        "  a_{2,1} & a_{2,2} & \\cdots & a_{2,n} \\\\\n",
        "  \\vdots  & \\vdots  & \\ddots & \\vdots  \\\\\n",
        "  a_{m,1} & a_{m,2} & \\cdots & a_{m,n}\n",
        " \\end{pmatrix}$\n"
      ]
    },
    {
      "cell_type": "markdown",
      "metadata": {
        "id": "jShxkNRpYNzq",
        "colab_type": "text"
      },
      "source": [
        "Lista:\n",
        "\n",
        "1.   Item 1\n",
        "2.   Item 2\n",
        "\n"
      ]
    },
    {
      "cell_type": "code",
      "metadata": {
        "id": "zsL9gdOYX43I",
        "colab_type": "code",
        "colab": {}
      },
      "source": [
        "print(\"Hello World\")"
      ],
      "execution_count": 0,
      "outputs": []
    },
    {
      "cell_type": "markdown",
      "metadata": {
        "id": "S3v19rZUt1Fv",
        "colab_type": "text"
      },
      "source": [
        "Ejemplo de gráfico, sácado del notebook introductorio de Colab."
      ]
    },
    {
      "cell_type": "code",
      "metadata": {
        "colab_type": "code",
        "id": "C4HZx7Gndbrh",
        "colab": {}
      },
      "source": [
        "import numpy as np\n",
        "from matplotlib import pyplot as plt\n",
        "\n",
        "ys = 200 + np.random.randn(100)\n",
        "x = [x for x in range(len(ys))]\n",
        "\n",
        "plt.plot(x, ys, '-')\n",
        "plt.fill_between(x, ys, 195, where=(ys > 195), facecolor='b', alpha=0.6)\n",
        "\n",
        "plt.title(\"Sample Visualization\")\n",
        "plt.show()"
      ],
      "execution_count": 0,
      "outputs": []
    }
  ]
}